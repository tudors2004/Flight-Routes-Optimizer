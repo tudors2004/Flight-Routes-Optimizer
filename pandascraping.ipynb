{
 "cells": [
  {
   "cell_type": "code",
   "id": "initial_id",
   "metadata": {
    "collapsed": true,
    "ExecuteTime": {
     "end_time": "2025-03-07T16:30:32.869294Z",
     "start_time": "2025-03-07T16:30:32.860532Z"
    }
   },
   "source": [
    "import pandas as pd\n",
    "from bs4 import BeautifulSoup\n",
    "import requests"
   ],
   "outputs": [],
   "execution_count": 11
  },
  {
   "metadata": {
    "ExecuteTime": {
     "end_time": "2025-03-07T16:19:55.976022Z",
     "start_time": "2025-03-07T16:19:54.657232Z"
    }
   },
   "cell_type": "code",
   "source": [
    "response = requests.get(\"https://en.wikipedia.org/wiki/List_of_international_airports_by_country\")\n",
    "soup = BeautifulSoup(response.text, 'html.parser')\n",
    "h = soup.find_all(\"h4\") # the headers which contain the country names\n",
    "t = soup.find_all(\"table\", class_=\"wikitable\") # the tables that contain the city, airport name and IATA code"
   ],
   "id": "af68984ef36714c7",
   "outputs": [],
   "execution_count": 7
  },
  {
   "metadata": {
    "ExecuteTime": {
     "end_time": "2025-03-07T16:27:20.896682Z",
     "start_time": "2025-03-07T16:27:20.672970Z"
    }
   },
   "cell_type": "code",
   "source": [
    "airports=[]\n",
    "for header,table in zip(h,t):\n",
    "    country = header.text.strip() # remove whitespace\n",
    "    df=pd.read_html(str(table))[0] # convert the table to pandas df\n",
    "    df = df.iloc[:, :3] # keep only the first 3 columns\n",
    "    df.columns = [\"Airport Name\", \"City\", \"IATA Code\"]\n",
    "    df[\"Country\"] = country\n",
    "    airports.append(df)\n",
    "df_airports = pd.concat(airports, ignore_index=True) # concatenate all the df\n",
    "df_airports.to_csv(\"static/csvfiles/airports.csv\", index=False)"
   ],
   "id": "a4ddcf31898c43d6",
   "outputs": [
    {
     "ename": "NameError",
     "evalue": "name 'StringIO' is not defined",
     "output_type": "error",
     "traceback": [
      "\u001B[31m---------------------------------------------------------------------------\u001B[39m",
      "\u001B[31mNameError\u001B[39m                                 Traceback (most recent call last)",
      "\u001B[36mCell\u001B[39m\u001B[36m \u001B[39m\u001B[32mIn[10]\u001B[39m\u001B[32m, line 4\u001B[39m\n\u001B[32m      2\u001B[39m \u001B[38;5;28;01mfor\u001B[39;00m header,table \u001B[38;5;129;01min\u001B[39;00m \u001B[38;5;28mzip\u001B[39m(h,t):\n\u001B[32m      3\u001B[39m     country = header.text.strip() \u001B[38;5;66;03m# remove whitespace\u001B[39;00m\n\u001B[32m----> \u001B[39m\u001B[32m4\u001B[39m     df=pd.read_html(\u001B[43mStringIO\u001B[49m(\u001B[38;5;28mstr\u001B[39m(table)))[\u001B[32m0\u001B[39m] \u001B[38;5;66;03m# convert the table to pandas df\u001B[39;00m\n\u001B[32m      5\u001B[39m     df = df.iloc[:, :\u001B[32m3\u001B[39m] \u001B[38;5;66;03m# keep only the first 3 columns\u001B[39;00m\n\u001B[32m      6\u001B[39m     df.columns = [\u001B[33m\"\u001B[39m\u001B[33mAirport Name\u001B[39m\u001B[33m\"\u001B[39m, \u001B[33m\"\u001B[39m\u001B[33mCity\u001B[39m\u001B[33m\"\u001B[39m, \u001B[33m\"\u001B[39m\u001B[33mIATA Code\u001B[39m\u001B[33m\"\u001B[39m]\n",
      "\u001B[31mNameError\u001B[39m: name 'StringIO' is not defined"
     ]
    }
   ],
   "execution_count": 10
  }
 ],
 "metadata": {
  "kernelspec": {
   "display_name": "Python 3",
   "language": "python",
   "name": "python3"
  },
  "language_info": {
   "codemirror_mode": {
    "name": "ipython",
    "version": 2
   },
   "file_extension": ".py",
   "mimetype": "text/x-python",
   "name": "python",
   "nbconvert_exporter": "python",
   "pygments_lexer": "ipython2",
   "version": "2.7.6"
  }
 },
 "nbformat": 4,
 "nbformat_minor": 5
}
